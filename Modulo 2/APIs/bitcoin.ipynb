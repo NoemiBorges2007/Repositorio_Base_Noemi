{
 "cells": [
  {
   "cell_type": "code",
   "execution_count": 54,
   "id": "ee22f7b4",
   "metadata": {},
   "outputs": [
    {
     "name": "stdout",
     "output_type": "stream",
     "text": [
      "200\n",
      "{'bitcoin': {'brl': 624083, 'usd': 115120, 'eur': 98209}}\n"
     ]
    }
   ],
   "source": [
    "# Consumir a API Publica da CoinGecko\n",
    "# Ver em tempo real, valor do biticoin em reais ,dolares e euros\n",
    "\n",
    "import requests\n",
    "\n",
    "url = 'https://api.coingecko.com/api/v3/simple/price?ids=bitcoin&vs_currencies=brl,usd,eur'\n",
    "\n",
    "conexao = requests.get(url, timeout=20)\n",
    "\n",
    "print(conexao.status_code)\n",
    "\n",
    "#print(conexao.textx)j\n",
    "\n",
    "\n",
    "crypto= conexao.json()\n",
    "\n",
    "print(crypto)"
   ]
  },
  {
   "cell_type": "code",
   "execution_count": 55,
   "id": "61927966",
   "metadata": {},
   "outputs": [
    {
     "name": "stdout",
     "output_type": "stream",
     "text": [
      "Valor atual do Bitcoin em reais: RS$ 624,083.00\n",
      "Valor atual do Bitcoin em Dólar: $ 115,120.00\n",
      "Valor atual do Bitcoin em Euro: £ 98,209.00\n"
     ]
    }
   ],
   "source": [
    "valorReal = crypto['bitcoin']['brl']\n",
    "valorDolar = crypto['bitcoin']['usd']\n",
    "valorEuro = crypto['bitcoin']['eur']\n",
    "\n",
    "print(f'Valor atual do Bitcoin em reais: RS$ {valorReal:,.2f}')\n",
    "print(f'Valor atual do Bitcoin em Dólar: $ {valorDolar:,.2f}')\n",
    "print(f'Valor atual do Bitcoin em Euro: £ {valorEuro:,.2f}')"
   ]
  }
 ],
 "metadata": {
  "kernelspec": {
   "display_name": ".venv",
   "language": "python",
   "name": "python3"
  },
  "language_info": {
   "codemirror_mode": {
    "name": "ipython",
    "version": 3
   },
   "file_extension": ".py",
   "mimetype": "text/x-python",
   "name": "python",
   "nbconvert_exporter": "python",
   "pygments_lexer": "ipython3",
   "version": "3.13.2"
  }
 },
 "nbformat": 4,
 "nbformat_minor": 5
}
