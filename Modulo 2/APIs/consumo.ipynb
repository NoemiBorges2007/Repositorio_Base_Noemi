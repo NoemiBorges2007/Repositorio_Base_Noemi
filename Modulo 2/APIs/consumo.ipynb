{
 "cells": [
  {
   "cell_type": "code",
   "execution_count": null,
   "id": "1fb3ea5b",
   "metadata": {},
   "outputs": [
    {
     "name": "stdout",
     "output_type": "stream",
     "text": [
      "200\n",
      "{'userId': 1, 'id': 10, 'title': 'optio molestias id quia eum', 'body': 'quo et expedita modi cum officia vel magni\\ndoloribus qui repudiandae\\nvero nisi sit\\nquos veniam quod sed accusamus veritatis error'}\n"
     ]
    }
   ],
   "source": [
    "# teste de consumo de api\n",
    "# Vamos usar uma API publica pois não exige autenticação \n",
    "\n",
    "import requests\n",
    "\n",
    "endereco = requests.get('https://jsonplaceholder.typicode.com/posts', timeout=20, params={'id':10})\n",
    "\n",
    "print(endereco.status_code)\n",
    "\n",
    "print(endereco.text)\n"
   ]
  },
  {
   "cell_type": "code",
   "execution_count": 19,
   "id": "67b8857d",
   "metadata": {},
   "outputs": [
    {
     "name": "stdout",
     "output_type": "stream",
     "text": [
      "201\n",
      "{\n",
      "  \"cod\": 1,\n",
      "  \"nome\": \"Noemi Borges\",\n",
      "  \"curso\": \"Desenvolvimento Intermediario com Python\",\n",
      "  \"id\": 101\n",
      "}\n"
     ]
    }
   ],
   "source": [
    "# Testas o método POST\n",
    "\n",
    "dados = {\n",
    "\n",
    "'cod':1,\n",
    "'nome':'Noemi Borges',\n",
    "'curso': 'Desenvolvimento Intermediario com Python',\n",
    "}\n",
    "\n",
    "enviarDados = requests.post('https://jsonplaceholder.typicode.com/posts', timeout= 30, json=dados)\n",
    "\n",
    "print(enviarDados.status_code)\n",
    "\n",
    "print(enviarDados.text)"
   ]
  }
 ],
 "metadata": {
  "kernelspec": {
   "display_name": ".venv",
   "language": "python",
   "name": "python3"
  },
  "language_info": {
   "codemirror_mode": {
    "name": "ipython",
    "version": 3
   },
   "file_extension": ".py",
   "mimetype": "text/x-python",
   "name": "python",
   "nbconvert_exporter": "python",
   "pygments_lexer": "ipython3",
   "version": "3.13.2"
  }
 },
 "nbformat": 4,
 "nbformat_minor": 5
}
