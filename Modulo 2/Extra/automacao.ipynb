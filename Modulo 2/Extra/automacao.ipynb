{
 "cells": [
  {
   "cell_type": "markdown",
   "id": "75d7a15f",
   "metadata": {},
   "source": [
    "**Aula 03 - Automação**\n",
    "\n",
    "     Pyautogui"
   ]
  },
  {
   "cell_type": "code",
   "execution_count": 11,
   "id": "20e2518c",
   "metadata": {},
   "outputs": [],
   "source": [
    "import pyautogui\n",
    "import time\n",
    "# Primeira tárefa, Abrir uma calculadora\n",
    "\n",
    "pyautogui.hotkey('winleft','r')\n",
    "time.sleep(2)\n",
    "pyautogui.write('calc', interval=1)\n",
    "pyautogui.press('enter')"
   ]
  },
  {
   "cell_type": "code",
   "execution_count": 8,
   "id": "14d19364",
   "metadata": {},
   "outputs": [],
   "source": [
    "pyautogui.hotkey('winleft','r')\n",
    "time.sleep(1)\n",
    "pyautogui.write('chrome')\n",
    "pyautogui.press('enter')\n",
    "time.sleep(4)\n",
    "pyautogui.write('www.google.com.br',interval=0.2)\n",
    "pyautogui.press('enter')\n",
    "time.sleep(2)\n",
    "pyautogui.write('vagas de analista de dados',interval=0.2)\n",
    "pyautogui.press('enter')\n"
   ]
  },
  {
   "cell_type": "code",
   "execution_count": null,
   "id": "771bb027",
   "metadata": {},
   "outputs": [],
   "source": [
    "pyautogui.hotkey('winleft','r')\n",
    "time.sleep(1)\n",
    "pyautogui.write('chrome')\n",
    "pyautogui.press('enter')\n",
    "time.sleep(3)\n",
    "pyautogui.write('www.youtube.com.',interval=0.05)\n",
    "pyautogui.press('enter')\n",
    "time.sleep(3)\n",
    "pyautogui.press('tab',presses=4,interval=0.05)\n",
    "pyautogui.write('opala 79')\n",
    "pyautogui.press('enter')\n",
    "pyautogui.moveTo(x=872, y=21, duration=3)\n",
    "pyautogui.click()\n",
    "time.sleep(2)\n",
    "pyautogui.scroll(-500)"
   ]
  },
  {
   "cell_type": "code",
   "execution_count": 16,
   "id": "bc780afd",
   "metadata": {},
   "outputs": [
    {
     "name": "stdout",
     "output_type": "stream",
     "text": [
      "Point(x=872, y=21)\n"
     ]
    }
   ],
   "source": [
    "# Pegar posição da tela\n",
    "\n",
    "time.sleep(5)\n",
    "alvo = pyautogui.position()\n",
    "print(alvo)"
   ]
  },
  {
   "cell_type": "code",
   "execution_count": 22,
   "id": "e271d6ef",
   "metadata": {},
   "outputs": [
    {
     "name": "stdout",
     "output_type": "stream",
     "text": [
      "['', 'O vento passa e leva embora', 'o que a alma não quis guardar,', 'mas deixa no ar uma memória', 'que insiste em querer ficar.', '', 'No silêncio mora um segredo,', 'feito estrela que não se vê,', 'brilha quieto dentro do peito, ', 'como quem sabe o que é ser.']\n"
     ]
    }
   ],
   "source": [
    "# Atividade \n",
    "\n",
    "poema ='''\n",
    "O vento passa e leva embora\n",
    "o que a alma não quis guardar,\n",
    "mas deixa no ar uma memória\n",
    "que insiste em querer ficar.\n",
    "\n",
    "No silêncio mora um segredo,\n",
    "feito estrela que não se vê,\n",
    "brilha quieto dentro do peito, \n",
    "como quem sabe o que é ser.'''\n",
    "\n",
    "poemaConvertido = poema.split('\\n')\n",
    "\n",
    "print(poemaConvertido)\n",
    "\n",
    "pyautogui.hotkey('winleft','r')\n",
    "time.sleep(2)\n",
    "pyautogui.write('notepad')\n",
    "pyautogui.press('enter')\n",
    "time.sleep(3)\n",
    "\n",
    "for linha in poemaConvertido:\n",
    "    pyautogui.write(linha, interval=0.05)\n",
    "    pyautogui.press('enter')\n"
   ]
  }
 ],
 "metadata": {
  "kernelspec": {
   "display_name": "auto",
   "language": "python",
   "name": "python3"
  },
  "language_info": {
   "codemirror_mode": {
    "name": "ipython",
    "version": 3
   },
   "file_extension": ".py",
   "mimetype": "text/x-python",
   "name": "python",
   "nbconvert_exporter": "python",
   "pygments_lexer": "ipython3",
   "version": "3.13.2"
  }
 },
 "nbformat": 4,
 "nbformat_minor": 5
}
